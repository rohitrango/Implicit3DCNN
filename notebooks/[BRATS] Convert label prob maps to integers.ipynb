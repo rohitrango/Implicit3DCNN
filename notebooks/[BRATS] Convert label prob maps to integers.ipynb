{
 "cells": [
  {
   "cell_type": "code",
   "execution_count": 4,
   "id": "c0d93793",
   "metadata": {},
   "outputs": [],
   "source": [
    "import nibabel as nib\n",
    "from glob import glob\n",
    "from tqdm import tqdm\n",
    "import numpy as np"
   ]
  },
  {
   "cell_type": "code",
   "execution_count": 5,
   "id": "8b708d74",
   "metadata": {},
   "outputs": [],
   "source": [
    "valfiles = glob(\"/data/rohitrango/Implicit3DCNNTasks/brats2021_unimodal_val/*nii.gz\")\n",
    "threshold = 0.5"
   ]
  },
  {
   "cell_type": "code",
   "execution_count": 14,
   "id": "30a744ef",
   "metadata": {},
   "outputs": [
    {
     "name": "stderr",
     "output_type": "stream",
     "text": [
      "/data/rohitrango/Implicit3DCNNTasks/brats2021_unimodal_val/BraTS2021_01738.nii.gz: 100%|██████████████████████████████████████████████████████████████████████████| 219/219 [01:46<00:00,  2.06it/s]\n"
     ]
    }
   ],
   "source": [
    "pbar =  tqdm(valfiles)\n",
    "for f in pbar:\n",
    "    segvol = nib.load(f)\n",
    "    data = segvol.get_fdata()\n",
    "    # get regions from BRATS format (ET, TC, WT)\n",
    "    ET, TC, WT = (data.transpose(3, 0, 1, 2) >= threshold).astype(int)\n",
    "    finalseg = ET*0\n",
    "    finalseg[np.where(ET)] = 3\n",
    "    finalseg[np.where(TC*(1 - ET))] = 1\n",
    "    finalseg[np.where(WT*(1 - TC))] = 2\n",
    "    # save this \n",
    "    fout = f.replace('.nii.gz', '-000.nii.gz').replace('S2021_', 'S2021-')\n",
    "    nib.save(nib.Nifti1Image(finalseg, segvol.affine, segvol.header), fout)\n",
    "    pbar.set_description(f)"
   ]
  },
  {
   "cell_type": "code",
   "execution_count": 12,
   "id": "ff772fd4",
   "metadata": {},
   "outputs": [],
   "source": [
    "nib.save?"
   ]
  },
  {
   "cell_type": "code",
   "execution_count": null,
   "id": "9eb6a790",
   "metadata": {},
   "outputs": [],
   "source": []
  }
 ],
 "metadata": {
  "kernelspec": {
   "display_name": "Python 3 (ipykernel)",
   "language": "python",
   "name": "python3"
  },
  "language_info": {
   "codemirror_mode": {
    "name": "ipython",
    "version": 3
   },
   "file_extension": ".py",
   "mimetype": "text/x-python",
   "name": "python",
   "nbconvert_exporter": "python",
   "pygments_lexer": "ipython3",
   "version": "3.7.16"
  }
 },
 "nbformat": 4,
 "nbformat_minor": 5
}
