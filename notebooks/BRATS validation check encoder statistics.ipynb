{
 "cells": [
  {
   "cell_type": "code",
   "execution_count": null,
   "id": "0",
   "metadata": {},
   "outputs": [],
   "source": [
    "ROOT_DIR = \"/data/rohitrango/BRATS2021/val/\"\n",
    "ENCODER_DIR = \"/data/rohitrango/Implicit3DCNNTasks/brats2021_unimodal\"\n",
    "OUT_DIR = \"/data/rohitrango/Implicit3DCNNTasks/brats2021_unimodal_val/\"\n",
    "NUM_PTS = 200000\n",
    "EPOCHS = 2500"
   ]
  },
  {
   "cell_type": "code",
   "execution_count": null,
   "id": "1",
   "metadata": {},
   "outputs": [],
   "source": [
    "import torch\n",
    "from torch import nn\n",
    "from queue import Queue\n",
    "from gridencoder import GridEncoder\n",
    "from dataloaders import BRATS2021Dataset\n",
    "from glob import glob\n",
    "import nibabel as nib\n",
    "from multiprocessing import Process\n",
    "from utils import uniform_normalize\n",
    "from time import sleep\n",
    "from os import path as osp\n",
    "from tqdm import tqdm\n",
    "import argparse\n",
    "import gc\n",
    "from utils import init_network\n",
    "from configs.config import get_cfg_defaults\n",
    "import numpy as np\n",
    "from torch.nn import functional as F\n",
    "from matplotlib import pyplot as plt"
   ]
  },
  {
   "cell_type": "markdown",
   "id": "2",
   "metadata": {},
   "source": [
    "# Load some random encoders and check distribution"
   ]
  },
  {
   "cell_type": "code",
   "execution_count": null,
   "id": "3",
   "metadata": {},
   "outputs": [],
   "source": [
    "train_encoded = sorted(glob(\"/data/rohitrango/Implicit3DCNNTasks/brats2021_unimodal/encoder_*.pth\"))\n",
    "rng = np.random.RandomState(55)\n",
    "rng.shuffle(train_encoded)\n",
    "\n",
    "val_encoded = sorted(glob(\"/data/rohitrango/Implicit3DCNNTasks/brats2021_unimodal_val/*.pth\"))\n",
    "rng = np.random.RandomState(12321)\n",
    "rng.shuffle(val_encoded)\n",
    "\n",
    "# val_encoded = sorted(glob(\"/data/rohitrango/Implicit3DCNNTasks/brats2021_unimodal/encoder_*.pth\"))\n",
    "# rng = np.random.RandomState(8165)\n",
    "# rng.shuffle(val_encoded)"
   ]
  },
  {
   "cell_type": "code",
   "execution_count": null,
   "id": "4",
   "metadata": {},
   "outputs": [],
   "source": [
    "# val_encoded[0], train_encoded[0]"
   ]
  },
  {
   "cell_type": "code",
   "execution_count": null,
   "id": "5",
   "metadata": {},
   "outputs": [],
   "source": [
    "N = 200\n",
    "train_data, val_data = [], []\n",
    "for f in train_encoded[:N]:\n",
    "    d = torch.load(f, map_location='cpu')['embeddings']\n",
    "    train_data.append(d)\n",
    "\n",
    "for f in val_encoded[:N]:\n",
    "    d = torch.load(f, map_location='cpu') #['embeddings']\n",
    "    val_data.append(d)"
   ]
  },
  {
   "cell_type": "code",
   "execution_count": null,
   "id": "6",
   "metadata": {},
   "outputs": [],
   "source": [
    "trainall, valall = torch.stack(train_data), torch.stack(val_data)"
   ]
  },
  {
   "cell_type": "code",
   "execution_count": null,
   "id": "7",
   "metadata": {},
   "outputs": [],
   "source": [
    "# print(trainall.abs().mean(1))\n",
    "# print(valall.abs().mean(1))"
   ]
  },
  {
   "cell_type": "code",
   "execution_count": null,
   "id": "8",
   "metadata": {},
   "outputs": [],
   "source": [
    "# plot histograms\n",
    "train_p = trainall.abs().mean(1).reshape(-1).data.numpy()\n",
    "val_p = valall.abs().mean(1).reshape(-1).data.numpy()\n",
    "fig, ax = plt.subplots(1, 1, figsize=(10, 10))\n",
    "ax.hist(train_p, bins=20)\n",
    "ax.hist(val_p, bins=20, alpha=0.4)"
   ]
  },
  {
   "cell_type": "markdown",
   "id": "9",
   "metadata": {},
   "source": [
    "# Run an initial run of encoder"
   ]
  },
  {
   "cell_type": "code",
   "execution_count": null,
   "id": "10",
   "metadata": {},
   "outputs": [],
   "source": [
    "dirqueue = list(sorted(glob(ROOT_DIR + \"/*\") ))\n",
    "device = torch.device(\"cuda\")\n",
    "decoders = [nn.Sequential(\n",
    "        nn.Linear(32, 256),\n",
    "        nn.LeakyReLU(),\n",
    "        nn.Linear(256, 1)\n",
    "    ).to(device) for _ in range(4)]\n",
    "for i in range(4):\n",
    "    decoders[i].load_state_dict(torch.load(osp.join(ENCODER_DIR, f\"decoder{i}.pth\")), strict=True)\n",
    "    decoders[i].eval()\n",
    "    decoders[i].requires_grad_(False)"
   ]
  },
  {
   "cell_type": "code",
   "execution_count": null,
   "id": "11",
   "metadata": {},
   "outputs": [],
   "source": [
    "for q in dirqueue[:1]:\n",
    "    files = sorted(glob(q + \"/*\"))\n",
    "    print(\"Processing {:s}\".format(q))\n",
    "    images = [torch.from_numpy(nib.load(f).get_fdata()).float().to(device) for f in files]"
   ]
  },
  {
   "cell_type": "code",
   "execution_count": null,
   "id": "12",
   "metadata": {},
   "outputs": [],
   "source": [
    "images = [uniform_normalize(img) for img in images]\n",
    "encoders = [GridEncoder(level_dim=2, desired_resolution=196).to(device) for _ in range(4)]\n",
    "optims = [torch.optim.Adam(enc.parameters(), lr=1e-2) for enc in encoders]"
   ]
  },
  {
   "cell_type": "code",
   "execution_count": null,
   "id": "13",
   "metadata": {},
   "outputs": [],
   "source": [
    "ds = BRATS2021Dataset(root_dir=ROOT_DIR, augment=False, num_points=1, multimodal=False, mlabel=0, sample='full')"
   ]
  },
  {
   "cell_type": "code",
   "execution_count": null,
   "id": "14",
   "metadata": {},
   "outputs": [],
   "source": [
    "for idx in [0]:\n",
    "    datum = ds[idx]\n",
    "    xyzfloat = datum['xyz'] / (datum['dims'][None] - 1) * 2 - 1  # ranges from -1 to 1  (allpoints, 3)\n",
    "    xyzfloat = xyzfloat.float().cuda()\n",
    "    image = datum['imgpoints'].cuda()\n",
    "    total_points = image.shape[0]\n",
    "    subj = datum['subj']\n",
    "    \n",
    "    print(datum['dims'])\n",
    "    input()\n",
    "    \n",
    "    pbar = tqdm(range(1000))\n",
    "    for i in pbar:\n",
    "        optims[0].zero_grad()\n",
    "        minibatch = np.random.randint(total_points, size=(100000,))\n",
    "        xyzminibatch = xyzfloat[minibatch]\n",
    "        imageminibatch = image[minibatch]\n",
    "        # load the data\n",
    "        pred_minibatch = decoders[0](encoders[0](xyzminibatch)) \n",
    "        # loss and backward\n",
    "        loss = F.mse_loss(pred_minibatch, imageminibatch)\n",
    "        loss.backward()\n",
    "        pbar.set_description(\"subj: {} iter: {}/{}, Loss: {:06f}\".format(0, i, 1000, loss.item()))\n",
    "        optims[0].step()"
   ]
  },
  {
   "cell_type": "code",
   "execution_count": null,
   "id": "15",
   "metadata": {},
   "outputs": [],
   "source": [
    "encoders[0].embeddings.min(0).values, encoders[0].embeddings.max(0).values"
   ]
  },
  {
   "cell_type": "code",
   "execution_count": null,
   "id": "16",
   "metadata": {},
   "outputs": [],
   "source": [
    "encoders[0].embeddings.abs().mean(0)"
   ]
  },
  {
   "cell_type": "code",
   "execution_count": null,
   "id": "17",
   "metadata": {},
   "outputs": [],
   "source": [
    "ls /data/rohitrango/Implicit3DCNNTasks/brats2021_unimodal/"
   ]
  },
  {
   "cell_type": "code",
   "execution_count": null,
   "id": "18",
   "metadata": {},
   "outputs": [],
   "source": [
    "data = torch.load(\"/data/rohitrango/Implicit3DCNNTasks/brats2021_unimodal/encoder_BraTS2021_00014.pth\")['embeddings']"
   ]
  },
  {
   "cell_type": "code",
   "execution_count": null,
   "id": "19",
   "metadata": {},
   "outputs": [],
   "source": [
    "data.abs().mean(0)"
   ]
  },
  {
   "cell_type": "code",
   "execution_count": null,
   "id": "20",
   "metadata": {},
   "outputs": [],
   "source": []
  }
 ],
 "metadata": {
  "kernelspec": {
   "display_name": "Python 3 (ipykernel)",
   "language": "python",
   "name": "python3"
  },
  "language_info": {
   "codemirror_mode": {
    "name": "ipython",
    "version": 3
   },
   "file_extension": ".py",
   "mimetype": "text/x-python",
   "name": "python",
   "nbconvert_exporter": "python",
   "pygments_lexer": "ipython3",
   "version": "3.7.16"
  }
 },
 "nbformat": 4,
 "nbformat_minor": 5
}
