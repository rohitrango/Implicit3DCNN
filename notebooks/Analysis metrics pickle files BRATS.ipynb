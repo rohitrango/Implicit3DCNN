{
 "cells": [
  {
   "cell_type": "code",
   "execution_count": null,
   "id": "0",
   "metadata": {},
   "outputs": [],
   "source": [
    "from glob import glob\n",
    "import pickle as pkl\n",
    "%pylab\n",
    "%matplotlib inline"
   ]
  },
  {
   "cell_type": "code",
   "execution_count": null,
   "id": "1",
   "metadata": {},
   "outputs": [],
   "source": [
    "thresholds = np.arange(0.05, 1, 0.05)"
   ]
  },
  {
   "cell_type": "code",
   "execution_count": null,
   "id": "2",
   "metadata": {},
   "outputs": [],
   "source": [
    "files = sorted(glob(\"../resnetv1.5-ce-fold*/*pkl\"))"
   ]
  },
  {
   "cell_type": "code",
   "execution_count": null,
   "id": "3",
   "metadata": {},
   "outputs": [],
   "source": [
    "metrics_fold = []\n",
    "for file in files:\n",
    "    with open(file, 'rb') as f:\n",
    "        data = pkl.load(f)\n",
    "    metrics_fold.append(data)"
   ]
  },
  {
   "cell_type": "code",
   "execution_count": null,
   "id": "4",
   "metadata": {},
   "outputs": [],
   "source": [
    "for fold in range(5):\n",
    "    m = metrics_fold[fold]\n",
    "    new_m = dict()\n",
    "    for k in m[0].keys():\n",
    "        new_m[k] = np.array([x[k] for x in m])\n",
    "    # print keys\n",
    "    keys = list(new_m.keys())\n",
    "    for k in keys:\n",
    "        data_avg = new_m[k].mean(0)\n",
    "        idx_best = np.argmax(data_avg)\n",
    "        thres_best = thresholds[idx_best]\n",
    "        dice_best = data_avg[idx_best]\n",
    "        print(f\"fold: {fold}, ana: {k}, best_threshold: {thres_best:02f}, best_dice: {dice_best:04f}.\")\n",
    "    print()\n",
    "    #     new_m[k] = new_m[k][:, idx_best]\n",
    "    #     new_m[k + '_idx_best'] = idx_best\n",
    "    "
   ]
  },
  {
   "cell_type": "code",
   "execution_count": null,
   "id": "5",
   "metadata": {},
   "outputs": [],
   "source": [
    "plt.plot(thresholds, new_m['ET'].mean(0))\n",
    "plt.plot(thresholds, new_m['TC'].mean(0))\n",
    "plt.plot(thresholds, new_m['WT'].mean(0))\n",
    "plt.legend(['ET', 'TC', 'WT'])"
   ]
  },
  {
   "cell_type": "code",
   "execution_count": null,
   "id": "6",
   "metadata": {},
   "outputs": [],
   "source": [
    "plt.hist(new_m['WT'], bins=20)"
   ]
  },
  {
   "cell_type": "code",
   "execution_count": null,
   "id": "7",
   "metadata": {},
   "outputs": [],
   "source": []
  }
 ],
 "metadata": {
  "kernelspec": {
   "display_name": "Python 3 (ipykernel)",
   "language": "python",
   "name": "python3"
  },
  "language_info": {
   "codemirror_mode": {
    "name": "ipython",
    "version": 3
   },
   "file_extension": ".py",
   "mimetype": "text/x-python",
   "name": "python",
   "nbconvert_exporter": "python",
   "pygments_lexer": "ipython3",
   "version": "3.7.16"
  }
 },
 "nbformat": 4,
 "nbformat_minor": 5
}
