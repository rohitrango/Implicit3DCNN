{
 "cells": [
  {
   "cell_type": "markdown",
   "id": "0",
   "metadata": {},
   "source": [
    "## Consistency check\n",
    "\n",
    "This script is to check if the name convention mapping is done right in brats files.\n",
    "\n",
    "## Edit: Mapping looks correct."
   ]
  },
  {
   "cell_type": "code",
   "execution_count": null,
   "id": "1",
   "metadata": {},
   "outputs": [],
   "source": [
    "from glob import glob\n",
    "import nibabel as nib\n",
    "%pylab\n",
    "%matplotlib inline"
   ]
  },
  {
   "cell_type": "code",
   "execution_count": null,
   "id": "2",
   "metadata": {},
   "outputs": [],
   "source": [
    "# example from BRATS2023\n",
    "files_val = sorted(glob(\"/data/rohitrango/BRATS2021/val/BraTS-GLI-00001-000/*\"))\n",
    "files_val = [files_val[x] for x in [2, 1, 0, 3]]\n",
    "for f in files_val:\n",
    "    print(f)"
   ]
  },
  {
   "cell_type": "code",
   "execution_count": null,
   "id": "3",
   "metadata": {},
   "outputs": [],
   "source": [
    "# visualize the val images\n",
    "imgs_val = [nib.load(f).get_fdata() for f in files_val]"
   ]
  },
  {
   "cell_type": "code",
   "execution_count": null,
   "id": "4",
   "metadata": {},
   "outputs": [],
   "source": [
    "fig, axs = plt.subplots(2, 2, figsize=(10, 10))\n",
    "t = 0\n",
    "for i in range(2):\n",
    "    for j in range(2):\n",
    "        # m, M = imgs_val[t].min(), imgs_val[t].max()\n",
    "        m, M = np.percentile(imgs_val[t], 0.1), np.percentile(imgs_val[t], 99.9)\n",
    "        axs[i][j].imshow(imgs_val[t][..., 70], vmin=m, vmax=M, cmap='gray')\n",
    "        axs[i][j].axis('off')\n",
    "        axs[i][j].set_title(files_val[t].split('/')[-1].split('-')[-1])\n",
    "        t += 1"
   ]
  },
  {
   "cell_type": "markdown",
   "id": "5",
   "metadata": {},
   "source": [
    "## Train image"
   ]
  },
  {
   "cell_type": "code",
   "execution_count": null,
   "id": "6",
   "metadata": {},
   "outputs": [],
   "source": [
    "# example from BRATS2021\n",
    "files_train = sorted(glob(\"/data/rohitrango/BRATS2021/training/BraTS2021_00061/*\"))\n",
    "files_train = list(filter(lambda x: \"seg\" not in x, files_train))\n",
    "for f in files_train:\n",
    "    print(f)"
   ]
  },
  {
   "cell_type": "code",
   "execution_count": null,
   "id": "7",
   "metadata": {},
   "outputs": [],
   "source": [
    "# visualize the train images\n",
    "imgs_train = [nib.load(f).get_fdata() for f in files_train]"
   ]
  },
  {
   "cell_type": "code",
   "execution_count": null,
   "id": "8",
   "metadata": {},
   "outputs": [],
   "source": [
    "for f1, f2 in zip(files_train, files_val):\n",
    "    print(f1.split('/')[-1], f2.split('/')[-1])"
   ]
  },
  {
   "cell_type": "code",
   "execution_count": null,
   "id": "9",
   "metadata": {},
   "outputs": [],
   "source": [
    "fig, axs = plt.subplots(2, 2, figsize=(10, 10))\n",
    "t = 0\n",
    "for i in range(2):\n",
    "    for j in range(2):\n",
    "        # m, M = imgs_train[t].min(), imgs_train[t].max()\n",
    "        m, M = np.percentile(imgs_train[t], 0.1), np.percentile(imgs_train[t], 99.9)\n",
    "        axs[i][j].imshow(imgs_train[t][..., 80], vmin=m, vmax=M, cmap='gray')\n",
    "        axs[i][j].axis('off')\n",
    "        axs[i][j].set_title(files_train[t].split('/')[-1].split('_')[-1])\n",
    "        t += 1"
   ]
  },
  {
   "cell_type": "code",
   "execution_count": null,
   "id": "10",
   "metadata": {},
   "outputs": [],
   "source": []
  }
 ],
 "metadata": {
  "kernelspec": {
   "display_name": "Python 3 (ipykernel)",
   "language": "python",
   "name": "python3"
  },
  "language_info": {
   "codemirror_mode": {
    "name": "ipython",
    "version": 3
   },
   "file_extension": ".py",
   "mimetype": "text/x-python",
   "name": "python",
   "nbconvert_exporter": "python",
   "pygments_lexer": "ipython3",
   "version": "3.7.16"
  }
 },
 "nbformat": 4,
 "nbformat_minor": 5
}
