{
 "cells": [
  {
   "cell_type": "markdown",
   "id": "0",
   "metadata": {},
   "source": [
    "## Check the effect of image histogram when data is winsorized"
   ]
  },
  {
   "cell_type": "code",
   "execution_count": null,
   "id": "1",
   "metadata": {},
   "outputs": [],
   "source": [
    "import nibabel as nib\n",
    "from glob import glob\n",
    "import numpy as np\n",
    "%pylab\n",
    "%matplotlib inline\n",
    "\n",
    "if __name__ == '__main__':\n",
    "    PATHS = ['/data/rohitrango/BRATS2021/training/', '/data/rohitrango/BRATS2021/val/']\n",
    "    # minmax_data = dict(flair=[0, 0], t1=[0, 0], t1ce=[0, 0], t2=[0, 0])\n",
    "    minmax_data = [[0, 0], [0, 0], [0, 0], [0, 0]]\n",
    "    for path in PATHS:\n",
    "        dirs = sorted(glob(path + 'BraTS2021_*'))\n",
    "        for dir in dirs:\n",
    "            files = sorted(glob(dir + '/*.nii.gz'))\n",
    "            files = [f for f in files if 'seg' not in f]\n",
    "            if len(files) != 4:\n",
    "                print('ERROR: ', dir)\n",
    "                continue\n",
    "            vals = []\n",
    "            for i, f in enumerate(files):\n",
    "                data = nib.load(f).get_fdata()\n",
    "                val = np.percentile(data, 99)\n",
    "                datanew = data+0\n",
    "                datanew[data >= val] = val\n",
    "                vals.extend([datanew.min(), datanew.max()])\n",
    "            print(dir, vals)"
   ]
  },
  {
   "cell_type": "code",
   "execution_count": null,
   "id": "2",
   "metadata": {},
   "outputs": [],
   "source": [
    "files = list(filter(lambda x: 'seg' not in x, sorted(glob(\"/data/rohitrango/BRATS2021/training/BraTS2021_01310/*nii.gz\")))) "
   ]
  },
  {
   "cell_type": "code",
   "execution_count": null,
   "id": "3",
   "metadata": {},
   "outputs": [],
   "source": [
    "blacklist = ['/data/rohitrango/BRATS2021/training/BraTS2021_01163', '/data/rohitrango/BRATS2021/training/BraTS2021_01310 ']"
   ]
  },
  {
   "cell_type": "code",
   "execution_count": null,
   "id": "4",
   "metadata": {},
   "outputs": [],
   "source": [
    "data = nib.load(files[0]).get_fdata()\n",
    "clamp = np.percentile(data, 99)\n",
    "data[data >= clamp] = clamp\n",
    "print(clamp)\n",
    "_ = plt.hist(data[data > 0].reshape(-1), bins=100)"
   ]
  },
  {
   "cell_type": "code",
   "execution_count": null,
   "id": "5",
   "metadata": {},
   "outputs": [],
   "source": [
    "plt.hist(datanew[datanew > 0].reshape(-1), bins=100)"
   ]
  },
  {
   "cell_type": "code",
   "execution_count": null,
   "id": "6",
   "metadata": {},
   "outputs": [],
   "source": []
  }
 ],
 "metadata": {
  "kernelspec": {
   "display_name": "Python 3 (ipykernel)",
   "language": "python",
   "name": "python3"
  },
  "language_info": {
   "codemirror_mode": {
    "name": "ipython",
    "version": 3
   },
   "file_extension": ".py",
   "mimetype": "text/x-python",
   "name": "python",
   "nbconvert_exporter": "python",
   "pygments_lexer": "ipython3",
   "version": "3.7.16"
  }
 },
 "nbformat": 4,
 "nbformat_minor": 5
}
