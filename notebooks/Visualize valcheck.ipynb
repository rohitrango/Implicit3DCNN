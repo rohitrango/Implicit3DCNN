{
 "cells": [
  {
   "cell_type": "code",
   "execution_count": null,
   "id": "0",
   "metadata": {},
   "outputs": [],
   "source": [
    "from glob import glob\n",
    "import nibabel as nib"
   ]
  },
  {
   "cell_type": "code",
   "execution_count": null,
   "id": "1",
   "metadata": {},
   "outputs": [],
   "source": [
    "idx = 7+8\n",
    "gt_image = nib.load(\"../valcheck/gt_{}.nii.gz\".format(idx)).get_fdata()[..., 0]\n",
    "pred_image = nib.load(\"../valcheck/pred_{}.nii.gz\".format(idx)).get_fdata()[..., -1]"
   ]
  },
  {
   "cell_type": "code",
   "execution_count": null,
   "id": "2",
   "metadata": {},
   "outputs": [],
   "source": [
    "print(gt_image.shape, pred_image.shape)"
   ]
  },
  {
   "cell_type": "code",
   "execution_count": null,
   "id": "3",
   "metadata": {},
   "outputs": [],
   "source": [
    "import numpy as np\n",
    "import matplotlib.pyplot as plt\n",
    "import ipywidgets as widgets\n",
    "\n",
    "# Assuming you have your 5 3D images as numpy arrays in a list\n",
    "# For example: images = [img1, img2, img3, img4, img5]\n",
    "# where each imgX is a numpy array of shape (H, W, D)'\n",
    "\n",
    "images = [gt_image>0, pred_image]\n",
    "\n",
    "# Function to plot slices\n",
    "def plot_slices(slice_index):\n",
    "    fig, axs = plt.subplots(1, 2, figsize=(20, 10))  # Adjust the size as needed\n",
    "    for i, img in enumerate(images):\n",
    "        axs[i].imshow(img[:, :, slice_index], cmap='gray')\n",
    "        axs[i].set_title(f'Image {i+1} - Slice {slice_index}')\n",
    "        axs[i].axis('off')\n",
    "    plt.show()\n",
    "\n",
    "# Create a slider\n",
    "max_slice_index = images[0].shape[2] - 1  # Assuming all images have the same shape\n",
    "slider = widgets.IntSlider(\n",
    "    value=0,\n",
    "    min=0,\n",
    "    max=max_slice_index,\n",
    "    step=1,\n",
    "    description='Slice Index:',\n",
    "    continuous_update=False\n",
    ")\n",
    "\n",
    "# Connect the slider to the plotting function\n",
    "widgets.interactive(plot_slices, slice_index=slider)\n"
   ]
  },
  {
   "cell_type": "code",
   "execution_count": null,
   "id": "4",
   "metadata": {},
   "outputs": [],
   "source": []
  }
 ],
 "metadata": {
  "kernelspec": {
   "display_name": "Python 3 (ipykernel)",
   "language": "python",
   "name": "python3"
  },
  "language_info": {
   "codemirror_mode": {
    "name": "ipython",
    "version": 3
   },
   "file_extension": ".py",
   "mimetype": "text/x-python",
   "name": "python",
   "nbconvert_exporter": "python",
   "pygments_lexer": "ipython3",
   "version": "3.7.16"
  }
 },
 "nbformat": 4,
 "nbformat_minor": 5
}
