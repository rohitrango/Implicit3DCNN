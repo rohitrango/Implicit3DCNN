{
 "cells": [
  {
   "cell_type": "code",
   "execution_count": null,
   "id": "0",
   "metadata": {},
   "outputs": [],
   "source": [
    "import argparse\n",
    "from dataloaders import BRATS2021KPlanesDataset\n",
    "from gridencoder import GridEncoder\n",
    "import torch\n",
    "from torch import nn\n",
    "from tqdm import tqdm\n",
    "from os import path as osp\n",
    "import numpy as np\n",
    "from torch.nn import functional as F\n",
    "import gc\n",
    "from configs.config import get_cfg_defaults\n",
    "import os\n",
    "from networks.kplanes.encoder import ImageKPlaneAttnEncoder\n",
    "from collections import namedtuple"
   ]
  },
  {
   "cell_type": "code",
   "execution_count": null,
   "id": "1",
   "metadata": {},
   "outputs": [],
   "source": [
    "%pylab\n",
    "%matplotlib inline"
   ]
  },
  {
   "cell_type": "code",
   "execution_count": null,
   "id": "2",
   "metadata": {},
   "outputs": [],
   "source": [
    "dataset = BRATS2021KPlanesDataset(root_dir='/data/rohitrango/BRATS2021/training', augment=True, \n",
    "                           multimodal=False, mlabel=0)"
   ]
  },
  {
   "cell_type": "code",
   "execution_count": null,
   "id": "3",
   "metadata": {},
   "outputs": [],
   "source": [
    "dataloader = torch.utils.data.DataLoader(dataset, batch_size=1, shuffle=False, num_workers=0)"
   ]
  },
  {
   "cell_type": "code",
   "execution_count": null,
   "id": "4",
   "metadata": {},
   "outputs": [],
   "source": [
    "for datum in dataloader:\n",
    "    break"
   ]
  },
  {
   "cell_type": "code",
   "execution_count": null,
   "id": "5",
   "metadata": {},
   "outputs": [],
   "source": [
    "img = datum['images'].cuda()"
   ]
  },
  {
   "cell_type": "code",
   "execution_count": null,
   "id": "6",
   "metadata": {},
   "outputs": [],
   "source": [
    "_, _, H, W, D = img.shape"
   ]
  },
  {
   "cell_type": "code",
   "execution_count": null,
   "id": "7",
   "metadata": {},
   "outputs": [],
   "source": [
    "# img = (img > 0).float()"
   ]
  },
  {
   "cell_type": "code",
   "execution_count": null,
   "id": "8",
   "metadata": {},
   "outputs": [],
   "source": [
    "C = 128"
   ]
  },
  {
   "cell_type": "code",
   "execution_count": null,
   "id": "9",
   "metadata": {},
   "outputs": [],
   "source": [
    "d = 4\n",
    "C = 128\n",
    "f_xy = nn.Parameter(0.01 * torch.randn(1, C, H//d, W//d).cuda())\n",
    "f_yz = nn.Parameter(0.01 * torch.randn(1, C, W//d, D//d).cuda())\n",
    "f_zx = nn.Parameter(0.01 * torch.randn(1, C, H//d, D//d).cuda())\n",
    "# f_xy = nn.Parameter((img.mean(-1).repeat(1, C, 1, 1))).cuda()\n",
    "# f_yz = nn.Parameter((img.mean(2).repeat(1, C, 1, 1))).cuda()\n",
    "# f_zx = nn.Parameter((img.mean(3).repeat(1, C, 1, 1))).cuda()"
   ]
  },
  {
   "cell_type": "code",
   "execution_count": null,
   "id": "10",
   "metadata": {},
   "outputs": [],
   "source": [
    "class SineLayer(nn.Module):\n",
    "    # See paper sec. 3.2, final paragraph, and supplement Sec. 1.5 for discussion of omega_0.\n",
    "    \n",
    "    # If is_first=True, omega_0 is a frequency factor which simply multiplies the activations before the \n",
    "    # nonlinearity. Different signals may require different omega_0 in the first layer - this is a \n",
    "    # hyperparameter.\n",
    "    \n",
    "    # If is_first=False, then the weights will be divided by omega_0 so as to keep the magnitude of \n",
    "    # activations constant, but boost gradients to the weight matrix (see supplement Sec. 1.5)\n",
    "    \n",
    "    def __init__(self, in_features, out_features, bias=True, activation=True,\n",
    "                 is_first=False, omega_0=30):\n",
    "        super().__init__()\n",
    "        self.omega_0 = omega_0\n",
    "        self.is_first = is_first\n",
    "        self.activation = activation\n",
    "        \n",
    "        self.in_features = in_features\n",
    "        self.linear = nn.Linear(in_features, out_features, bias=bias)\n",
    "        \n",
    "        self.init_weights()\n",
    "    \n",
    "    def init_weights(self):\n",
    "        with torch.no_grad():\n",
    "            if self.is_first:\n",
    "                self.linear.weight.uniform_(-1 / self.in_features, \n",
    "                                             1 / self.in_features)      \n",
    "            else:\n",
    "                self.linear.weight.uniform_(-np.sqrt(6 / self.in_features) / self.omega_0, \n",
    "                                             np.sqrt(6 / self.in_features) / self.omega_0)\n",
    "        \n",
    "    def forward(self, input):\n",
    "        ret = self.omega_0 * self.linear(input)\n",
    "        return torch.sin(ret) if self.activation else ret\n",
    "    \n",
    "    def forward_with_intermediate(self, input): \n",
    "        # For visualization of activation distributions\n",
    "        intermediate = self.omega_0 * self.linear(input)\n",
    "        return torch.sin(intermediate), intermediate"
   ]
  },
  {
   "cell_type": "code",
   "execution_count": null,
   "id": "11",
   "metadata": {},
   "outputs": [],
   "source": [
    "decoder = nn.Sequential(\n",
    "    nn.Linear(C*3, 256),\n",
    "    nn.GELU(),\n",
    "    nn.Linear(256, 256),\n",
    "    nn.GELU(),\n",
    "    nn.Linear(256, 256),\n",
    "    nn.GELU(),\n",
    "    nn.Linear(256, 256),\n",
    "    nn.GELU(),\n",
    "    nn.Linear(256, 256),\n",
    "    nn.GELU(),\n",
    "    nn.Linear(256, 1)\n",
    "    # SineLayer(C*3, 256, is_first=True),\n",
    "    # SineLayer(256, 256),\n",
    "    # SineLayer(256, 256),\n",
    "    # SineLayer(256, 256),\n",
    "    # SineLayer(256, 1, activation=False),\n",
    ").cuda()"
   ]
  },
  {
   "cell_type": "code",
   "execution_count": null,
   "id": "12",
   "metadata": {},
   "outputs": [],
   "source": [
    "opt = torch.optim.Adam([f_xy, f_yz, f_zx], lr=5e-2)\n",
    "opt_d = torch.optim.Adam(decoder.parameters(), lr=3e-4)"
   ]
  },
  {
   "cell_type": "code",
   "execution_count": null,
   "id": "13",
   "metadata": {},
   "outputs": [],
   "source": [
    "add = False\n",
    "cat = True"
   ]
  },
  {
   "cell_type": "code",
   "execution_count": null,
   "id": "14",
   "metadata": {},
   "outputs": [],
   "source": [
    "def concat_coord(x, y):\n",
    "    # (x, y): [N,]\n",
    "    x = x[None, None, :, None]\n",
    "    y = y[None, None, :, None]\n",
    "    coord = np.concatenate([x, y], axis=-1) # [1, 1, N, 2]\n",
    "    return coord\n",
    "\n",
    "pbar = tqdm(range(10000))\n",
    "losses = []\n",
    "for i in pbar:\n",
    "    x = np.random.randint(H, size=(50000,))\n",
    "    y = np.random.randint(W, size=(50000,))\n",
    "    z = np.random.randint(D, size=(50000,))\n",
    "#     x, y, z = [np.random.randint(60, 80, size=(10000,)) for _ in range(3)]\n",
    "    if d==1:\n",
    "        if add:\n",
    "            f = f_xy[..., x, y] + f_yz[..., y, z] + f_zx[..., x, z]\n",
    "        else:\n",
    "            if cat:\n",
    "                f = torch.cat([f_xy[..., x, y], f_yz[..., y, z], f_zx[..., x, z]], dim=1)  # [B, C, p]\n",
    "            else:\n",
    "                f = f_xy[..., x, y] * f_yz[..., y, z] * f_zx[..., x, z]\n",
    "    else:\n",
    "        # only assume concat\n",
    "        x1, y1, z1 = x/H*2.0-1, y/W*2.0-1, z/D*2.0-1\n",
    "        xy_c = torch.from_numpy(concat_coord(y1, x1)).cuda().float()\n",
    "        yz_c = torch.from_numpy(concat_coord(z1, y1)).cuda().float()\n",
    "        xz_c = torch.from_numpy(concat_coord(z1, x1)).cuda().float()\n",
    "        fxy = F.grid_sample(f_xy, xy_c, mode='bilinear', align_corners=True)  # [1, C, 1, N]\n",
    "        fyz = F.grid_sample(f_yz, yz_c, mode='bilinear', align_corners=True)\n",
    "        fzx = F.grid_sample(f_zx, xz_c, mode='bilinear', align_corners=True)\n",
    "        f = torch.cat([fxy, fyz, fzx], dim=1)  # [1, 3C, 1, N]\n",
    "        f = f.squeeze(2)   # [1, 3C, N]\n",
    "    \n",
    "    f = f.permute(0, 2, 1)\n",
    "#     f = f.mean(-1)[..., None]\n",
    "    f.retain_grad()\n",
    "    f2 = decoder(f).permute(0, 2, 1)\n",
    "    f2.retain_grad()\n",
    "    opt.zero_grad()\n",
    "    opt_d.zero_grad()\n",
    "    loss = F.mse_loss(f2, img[..., x, y, z])\n",
    "    l1_loss = torch.abs(f2 - img[..., x, y, z]).mean()\n",
    "    (loss + 0.1*l1_loss).backward()\n",
    "    opt.step()\n",
    "    opt_d.step()\n",
    "    pbar.set_description(\"Iter: {}, loss: {}\".format(i, loss.item()))\n",
    "    losses.append(loss.item())"
   ]
  },
  {
   "cell_type": "code",
   "execution_count": null,
   "id": "15",
   "metadata": {},
   "outputs": [],
   "source": [
    "plt.plot(losses)\n",
    "plt.yscale('log')"
   ]
  },
  {
   "cell_type": "code",
   "execution_count": null,
   "id": "16",
   "metadata": {},
   "outputs": [],
   "source": [
    "f2 - img[..., x, y, z]"
   ]
  },
  {
   "cell_type": "code",
   "execution_count": null,
   "id": "17",
   "metadata": {},
   "outputs": [],
   "source": [
    "with torch.no_grad():\n",
    "    if add:\n",
    "        f = f_xy[..., None] + f_yz[..., None, :, :] + f_zx[..., None, :] \n",
    "    else:\n",
    "        if cat:\n",
    "            fxyimg = f_xy[..., None].repeat(1, 1, 1, 1, D//d)\n",
    "            fyzimg = f_yz[..., None, :, :].repeat(1, 1, H//d, 1, 1)\n",
    "            fzximg = f_zx[..., None, :].repeat(1, 1, 1, W//d, 1)\n",
    "            f = torch.cat([fxyimg, fyzimg, fzximg], dim=1)\n",
    "#             f = torch.cat([f_xy[..., None], f_yz[..., None, :, :], f_zx[..., None, :]], dim=1)  # [B, C, p]\n",
    "        else:\n",
    "            f = f_xy[..., x, y] * f_yz[..., y, z] * f_zx[..., x, z]\n",
    "                \n",
    "    # f = [B, C, H, W, D]\n",
    "    f = F.interpolate(f, (H, W, D), mode='trilinear', align_corners=True)\n",
    "    f = f.permute(0, 2, 3, 4, 1)\n",
    "    f = decoder(f).permute(0, 4, 1, 2, 3)\n",
    "    mse = F.mse_loss(f, img)\n",
    "    psnr = 10 * torch.log10(4/mse)\n",
    "    print(mse.item(), psnr.item())\n",
    "   "
   ]
  },
  {
   "cell_type": "code",
   "execution_count": null,
   "id": "18",
   "metadata": {},
   "outputs": [],
   "source": [
    "s = 70\n",
    "fig, (ax0, ax1) = plt.subplots(1, 2, figsize=(20, 10))\n",
    "ax0.imshow(f[0, 0, ..., s].data.cpu().numpy(), cmap='gray')\n",
    "ax1.imshow(img[0, 0, ..., s].cpu().numpy(), cmap='gray')"
   ]
  },
  {
   "cell_type": "code",
   "execution_count": null,
   "id": "19",
   "metadata": {},
   "outputs": [],
   "source": [
    "F.mse_loss(f, img)"
   ]
  },
  {
   "cell_type": "markdown",
   "id": "20",
   "metadata": {},
   "source": [
    "# Multi-scale KP"
   ]
  },
  {
   "cell_type": "markdown",
   "id": "21",
   "metadata": {},
   "source": []
  },
  {
   "cell_type": "code",
   "execution_count": null,
   "id": "22",
   "metadata": {},
   "outputs": [],
   "source": [
    "params = {\n",
    "    'xy': [],\n",
    "    'yz': [],\n",
    "    'zx': []\n",
    "}\n",
    "C = 64\n",
    "for d in [2, 4, 8, 16]:\n",
    "    f_xy = nn.Parameter(0.99 * torch.randn(1, C, H//d, W//d).cuda())\n",
    "    f_yz = nn.Parameter(0.99 * torch.randn(1, C, W//d, D//d).cuda())\n",
    "    f_zx = nn.Parameter(0.99 * torch.randn(1, C, H//d, D//d).cuda())\n",
    "    params['xy'].append(f_xy)\n",
    "    params['yz'].append(f_yz)\n",
    "    params['zx'].append(f_zx)"
   ]
  },
  {
   "cell_type": "code",
   "execution_count": null,
   "id": "23",
   "metadata": {},
   "outputs": [],
   "source": [
    "decoder = nn.Sequential(\n",
    "    nn.Linear(C*4*3, 256),\n",
    "    nn.GELU(),\n",
    "    nn.Linear(256, 256),\n",
    "    nn.GELU(),\n",
    "    nn.Linear(256, 256),\n",
    "    nn.GELU(),\n",
    "    nn.Linear(256, 256),\n",
    "    nn.GELU(),\n",
    "    nn.Linear(256, 256),\n",
    "    nn.GELU(),\n",
    "    nn.Linear(256, 1)\n",
    ").cuda()"
   ]
  },
  {
   "cell_type": "code",
   "execution_count": null,
   "id": "24",
   "metadata": {},
   "outputs": [],
   "source": [
    "opt = torch.optim.Adam(params['xy'] + params['yz'] + params['zx'], lr=5e-2)\n",
    "opt_d = torch.optim.Adam(decoder.parameters(), lr=3e-4)"
   ]
  },
  {
   "cell_type": "code",
   "execution_count": null,
   "id": "25",
   "metadata": {},
   "outputs": [],
   "source": [
    "def concat_coord(x, y):\n",
    "    # (x, y): [N,]\n",
    "    x = x[None, None, :, None]\n",
    "    y = y[None, None, :, None]\n",
    "    coord = np.concatenate([x, y], axis=-1) # [1, 1, N, 2]\n",
    "    return coord"
   ]
  },
  {
   "cell_type": "code",
   "execution_count": null,
   "id": "26",
   "metadata": {},
   "outputs": [],
   "source": [
    "pbar = tqdm(range(10000))\n",
    "losses = []\n",
    "for i in pbar:\n",
    "    x = np.random.randint(H, size=(50000,))\n",
    "    y = np.random.randint(W, size=(50000,))\n",
    "    z = np.random.randint(D, size=(50000,))\n",
    "    #f = torch.cat([f_xy[..., x, y], f_yz[..., y, z], f_zx[..., x, z]], dim=1)  # [B, C, p]\n",
    "    x1, y1, z1 = x/H*2.0-1, y/W*2.0-1, z/D*2.0-1\n",
    "    xy_c = torch.from_numpy(concat_coord(y1, x1)).cuda().float()\n",
    "    yz_c = torch.from_numpy(concat_coord(z1, y1)).cuda().float()\n",
    "    xz_c = torch.from_numpy(concat_coord(z1, x1)).cuda().float()\n",
    "    fxy = [F.grid_sample(f_xy, xy_c, mode='bilinear', align_corners=True) for f_xy in params['xy']]  # [1, C, 1, N]\n",
    "    fyz = [F.grid_sample(f_yz, yz_c, mode='bilinear', align_corners=True) for f_yz in params['yz']]\n",
    "    fzx = [F.grid_sample(f_zx, xz_c, mode='bilinear', align_corners=True) for f_zx in params['zx']]\n",
    "    f = torch.cat([*fxy, *fyz, *fzx], dim=1)  # [1, 3C, 1, N]\n",
    "    f = f.squeeze(2)   # [1, 3C, N]\n",
    "\n",
    "    f = f.permute(0, 2, 1)\n",
    "    f.retain_grad()\n",
    "    f2 = decoder(f).permute(0, 2, 1)\n",
    "    f2.retain_grad()\n",
    "    opt.zero_grad()\n",
    "    opt_d.zero_grad()\n",
    "    loss = F.mse_loss(f2, img[..., x, y, z])\n",
    "    l1_loss = torch.abs(f2 - img[..., x, y, z]).mean()\n",
    "    (loss + l1_loss*0.1).backward()\n",
    "    opt.step()\n",
    "    opt_d.step()\n",
    "    pbar.set_description(\"Iter: {}, loss: {}\".format(i, loss.item()))\n",
    "    losses.append(loss.item())\n",
    "    "
   ]
  },
  {
   "cell_type": "code",
   "execution_count": null,
   "id": "27",
   "metadata": {},
   "outputs": [],
   "source": [
    "with torch.no_grad():\n",
    "    fxyimg = [f_xy[..., None].repeat(1, 1, 1, 1, D//2) for f_xy in params['xy']]\n",
    "    fyzimg = [f_yz[..., None, :, :].repeat(1, 1, H//2, 1, 1) for f_yz in params['yz']]\n",
    "    fzximg = [f_zx[..., None, :].repeat(1, 1, 1, W//2, 1) for f_zx in params['zx']]\n",
    "    fxyimg = [F.interpolate(f, (H//2, W//2, D//2), mode='trilinear', align_corners=True) for f in fxyimg]\n",
    "    fyzimg = [F.interpolate(f, (H//2, W//2, D//2), mode='trilinear', align_corners=True) for f in fyzimg]\n",
    "    fzximg = [F.interpolate(f, (H//2, W//2, D//2), mode='trilinear', align_corners=True) for f in fzximg]\n",
    "    f = torch.cat([*fxyimg, *fyzimg, *fzximg], dim=1)\n",
    "\n",
    "    pred_img = np.zeros((1, 1, H, W, D))\n",
    "    for octet in range(8):\n",
    "        a, b, c = octet//4, (octet//2)%2, octet%2\n",
    "        fmini = f[:, :, a*H//4:(a+1)*H//4, b*W//4:(b+1)*W//4, c*D//4:(c+1)*D//4]\n",
    "        fmini = F.interpolate(fmini, (H//2, W//2, D//2), mode='trilinear', align_corners=False)\n",
    "        fmini = fmini.permute(0, 2, 3, 4, 1)\n",
    "        fmini = decoder(fmini).permute(0, 4, 1, 2, 3)\n",
    "        pred_img[:, :, a*H//2:(a+1)*H//2, b*W//2:(b+1)*W//2, c*D//2:(c+1)*D//2] = fmini.data.cpu().numpy()\n",
    "    mse = ((pred_img - img.cpu().numpy())**2).mean()\n",
    "    psnr = 10 * np.log10(4/mse)\n",
    "    print(mse.item(), psnr.item())"
   ]
  },
  {
   "cell_type": "code",
   "execution_count": null,
   "id": "28",
   "metadata": {},
   "outputs": [],
   "source": [
    "s = 100\n",
    "fig, (ax0, ax1) = plt.subplots(1, 2, figsize=(20, 10))\n",
    "ax0.imshow(pred_img[0, 0, ..., s], cmap='gray')\n",
    "ax1.imshow(img[0, 0, ..., s].cpu().numpy(), cmap='gray')"
   ]
  },
  {
   "cell_type": "markdown",
   "id": "29",
   "metadata": {},
   "source": [
    "# What about multi-res 3D images"
   ]
  },
  {
   "cell_type": "code",
   "execution_count": null,
   "id": "30",
   "metadata": {},
   "outputs": [],
   "source": [
    "params = []\n",
    "\n",
    "for d in [1, 2, 4, 8, 16]:\n",
    "    C = 64\n",
    "    p = nn.Parameter(0.01*torch.randn(1, C, H//d, W//d, D//d).cuda())\n",
    "    params.append(p)\n",
    "print([p.shape for p in params])"
   ]
  },
  {
   "cell_type": "code",
   "execution_count": null,
   "id": "31",
   "metadata": {},
   "outputs": [],
   "source": [
    "inps = [p.shape[1] for p in params]"
   ]
  },
  {
   "cell_type": "code",
   "execution_count": null,
   "id": "32",
   "metadata": {},
   "outputs": [],
   "source": [
    "decoder = nn.Sequential(\n",
    "    nn.Linear(sum(inps), 256),\n",
    "    nn.GELU(),\n",
    "    nn.Linear(256, 256),\n",
    "    nn.GELU(),\n",
    "    nn.Linear(256, 256),\n",
    "    nn.GELU(),\n",
    "    nn.Linear(256, 256),\n",
    "    nn.GELU(),\n",
    "    nn.Linear(256, 256),\n",
    "    nn.GELU(),\n",
    "    nn.Linear(256, 1)\n",
    ").cuda()"
   ]
  },
  {
   "cell_type": "code",
   "execution_count": null,
   "id": "33",
   "metadata": {},
   "outputs": [],
   "source": [
    "opt = torch.optim.Adam(params, lr=5e-2)\n",
    "opt_d = torch.optim.Adam(decoder.parameters(), lr=3e-4)"
   ]
  },
  {
   "cell_type": "code",
   "execution_count": null,
   "id": "34",
   "metadata": {},
   "outputs": [],
   "source": [
    "def concat_coord_3d(x, y, z):\n",
    "    # (x, y): [N,]\n",
    "    x = x[None, None, None, :, None]\n",
    "    y = y[None, None, None, :, None]\n",
    "    z = z[None, None, None, :, None]\n",
    "    coord = np.concatenate([x, y, z], axis=-1) # [1, 1, 1, N, 3]\n",
    "    return coord\n",
    "\n",
    "pbar = tqdm(range(10000))\n",
    "losses = []\n",
    "for i in pbar:\n",
    "    x = np.random.randint(H, size=(50000,))\n",
    "    y = np.random.randint(W, size=(50000,))\n",
    "    z = np.random.randint(D, size=(50000,))\n",
    "    x1, y1, z1 = x/H*2.0-1, y/W*2.0-1, z/D*2.0-1\n",
    "    coords = torch.from_numpy(concat_coord_3d(z1, y1, x1)).cuda().float()\n",
    "    fs = [F.grid_sample(p, coords, mode='bilinear', align_corners=True) for p in params]\n",
    "    fs = torch.cat(fs, dim=1)\n",
    "    fs = fs.squeeze(2).squeeze(2)  # [b, C, N]\n",
    "    f = fs.permute(0, 2, 1)\n",
    "    f2 = decoder(f).permute(0, 2, 1)\n",
    "    opt.zero_grad()\n",
    "    opt_d.zero_grad()\n",
    "    loss = F.mse_loss(f2, img[..., x, y, z])\n",
    "    l1_loss = torch.abs(f2 - img[..., x, y, z]).mean()\n",
    "    (loss + 0.1*l1_loss).backward()\n",
    "    opt.step()\n",
    "    opt_d.step()\n",
    "    pbar.set_description(\"Iter: {}, loss: {}\".format(i, loss.item()))\n",
    "    losses.append(loss.item())\n",
    "    "
   ]
  },
  {
   "cell_type": "code",
   "execution_count": null,
   "id": "35",
   "metadata": {},
   "outputs": [],
   "source": [
    "with torch.no_grad():\n",
    "    fimgs = [F.interpolate(p, (H, W, D), mode='trilinear', align_corners=True) for p in params]\n",
    "    fimgs = torch.cat(fimgs, dim=1)\n",
    "    fimgs = fimgs.permute(0, 2, 3, 4, 1)\n",
    "    f = decoder(fimgs).permute(0, 4, 1, 2, 3)\n",
    "    mse = F.mse_loss(f, img)\n",
    "    psnr = 10 * torch.log10(4/mse)\n",
    "    print(mse.item(), psnr.item())"
   ]
  },
  {
   "cell_type": "code",
   "execution_count": null,
   "id": "36",
   "metadata": {},
   "outputs": [],
   "source": [
    "s = 60\n",
    "fig, (ax0, ax1) = plt.subplots(1, 2, figsize=(20, 10))\n",
    "ax0.imshow(f[0, 0, ..., s].data.cpu().numpy(), cmap='gray')\n",
    "ax1.imshow(img[0, 0, ..., s].cpu().numpy(), cmap='gray')"
   ]
  },
  {
   "cell_type": "code",
   "execution_count": null,
   "id": "37",
   "metadata": {},
   "outputs": [],
   "source": []
  }
 ],
 "metadata": {
  "kernelspec": {
   "display_name": "Python 3 (ipykernel)",
   "language": "python",
   "name": "python3"
  },
  "language_info": {
   "codemirror_mode": {
    "name": "ipython",
    "version": 3
   },
   "file_extension": ".py",
   "mimetype": "text/x-python",
   "name": "python",
   "nbconvert_exporter": "python",
   "pygments_lexer": "ipython3",
   "version": "3.7.16"
  }
 },
 "nbformat": 4,
 "nbformat_minor": 5
}
