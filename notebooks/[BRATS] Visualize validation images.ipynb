{
 "cells": [
  {
   "cell_type": "markdown",
   "id": "0",
   "metadata": {},
   "source": [
    "# Writing a script to visualize the segmentations"
   ]
  },
  {
   "cell_type": "code",
   "execution_count": null,
   "id": "1",
   "metadata": {},
   "outputs": [],
   "source": [
    "# import libraries\n",
    "from glob import glob\n",
    "import ipywidgets as widgets\n",
    "from IPython.display import display\n",
    "import os\n",
    "from os import path as osp\n",
    "%pylab\n",
    "%matplotlib inline\n",
    "\n",
    "import nibabel as nib"
   ]
  },
  {
   "cell_type": "code",
   "execution_count": null,
   "id": "2",
   "metadata": {},
   "outputs": [],
   "source": [
    "# define directories\n",
    "SEG_DIR = \"/data/rohitrango/Implicit3DCNNTasks/brats2021_unimodal_val/resnetv1.5-fold0/\"\n",
    "IMG_DIR = \"/data/rohitrango/BRATS2021/val/\""
   ]
  },
  {
   "cell_type": "code",
   "execution_count": null,
   "id": "3",
   "metadata": {},
   "outputs": [],
   "source": [
    "# select file\n",
    "files = sorted(glob(SEG_DIR + \"/*\"))\n",
    "items = [x.split('/')[-1] for x in files]\n",
    "selected_file = None\n",
    "\n",
    "# Create the dropdown\n",
    "dropdown = widgets.Dropdown(\n",
    "    options=items,\n",
    "    value=items[0], # default value\n",
    "    description='Choose an item:',\n",
    "    disabled=False,\n",
    ")\n",
    "\n",
    "# Function to handle changes in the dropdown\n",
    "def on_dropdown_change(change):\n",
    "    global selected_file\n",
    "    if change['type'] == 'change' and change['name'] == 'value':\n",
    "        print(f\"You selected {change['new']}\")\n",
    "        selected_file = change['new']\n",
    "\n",
    "# Watch the dropdown for changes\n",
    "dropdown.observe(on_dropdown_change, names='value')\n",
    "\n",
    "# Display the dropdown\n",
    "display(dropdown)\n"
   ]
  },
  {
   "cell_type": "code",
   "execution_count": null,
   "id": "4",
   "metadata": {},
   "outputs": [],
   "source": [
    "# given the selected file, load this and the corresponding brain file\n",
    "seg = nib.load(osp.join(SEG_DIR, selected_file)).get_fdata()"
   ]
  },
  {
   "cell_type": "code",
   "execution_count": null,
   "id": "5",
   "metadata": {},
   "outputs": [],
   "source": [
    "# load the corresponding image inputs\n",
    "imgfiles = sorted(glob(osp.join(IMG_DIR, selected_file.split('.')[0], '*.nii.gz')))\n",
    "imgs = [nib.load(x).get_fdata() for x in imgfiles]\n",
    "ranges = [(img.min(), img.max()) for img in imgs]"
   ]
  },
  {
   "cell_type": "code",
   "execution_count": null,
   "id": "6",
   "metadata": {},
   "outputs": [],
   "source": [
    "def plot_slices(slice_index):\n",
    "    fig, axs = plt.subplots(2, 3, figsize=(15, 10))  # Adjust the size as needed\n",
    "    axs = [ax for axi in axs for ax in axi]\n",
    "    for i, img in enumerate(imgs):\n",
    "        axs[i].imshow(img[:, :, slice_index].T, cmap='gray', vmin=ranges[i][0], vmax=ranges[i][1])\n",
    "        axs[i].set_title(f'Image {i+1} - Slice {slice_index}')\n",
    "        axs[i].axis('off')\n",
    "    # last one is segmentation\n",
    "    axs[-2].imshow(seg[:, :, slice_index].transpose((1, 0, 2)))\n",
    "    axs[-2].set_title('Segmentation')\n",
    "    axs[-2].axis('off')\n",
    "    axs[-1].imshow(seg[:, :, slice_index, 0].T, cmap='gray')\n",
    "    axs[-1].set_title('ET')\n",
    "    axs[-1].axis('off')\n",
    "    plt.show()\n",
    "\n",
    "# Create a slider\n",
    "max_slice_index = imgs[0].shape[2] - 1  # Assuming all images have the same shape\n",
    "slider = widgets.IntSlider(\n",
    "    value=0,\n",
    "    min=0,\n",
    "    max=max_slice_index,\n",
    "    step=1,\n",
    "    description='Slice Index:',\n",
    "    continuous_update=False\n",
    ")\n",
    "\n",
    "widgets.interactive(plot_slices, slice_index=slider)"
   ]
  },
  {
   "cell_type": "code",
   "execution_count": null,
   "id": "7",
   "metadata": {},
   "outputs": [],
   "source": []
  }
 ],
 "metadata": {
  "kernelspec": {
   "display_name": "Python 3 (ipykernel)",
   "language": "python",
   "name": "python3"
  },
  "language_info": {
   "codemirror_mode": {
    "name": "ipython",
    "version": 3
   },
   "file_extension": ".py",
   "mimetype": "text/x-python",
   "name": "python",
   "nbconvert_exporter": "python",
   "pygments_lexer": "ipython3",
   "version": "3.7.16"
  }
 },
 "nbformat": 4,
 "nbformat_minor": 5
}
