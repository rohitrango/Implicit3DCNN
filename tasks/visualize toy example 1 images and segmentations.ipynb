{
 "cells": [
  {
   "cell_type": "code",
   "execution_count": null,
   "id": "0",
   "metadata": {},
   "outputs": [],
   "source": [
    "%pylab\n",
    "%matplotlib notebook\n",
    "from glob import glob\n",
    "import ipywidgets as widgets\n",
    "from IPython.display import display"
   ]
  },
  {
   "cell_type": "code",
   "execution_count": null,
   "id": "1",
   "metadata": {},
   "outputs": [],
   "source": [
    "intfunc = lambda x: int(x.split('/')[-1].split('.')[0].split('_')[1])"
   ]
  },
  {
   "cell_type": "code",
   "execution_count": null,
   "id": "2",
   "metadata": {},
   "outputs": [],
   "source": [
    "images = sorted(glob(\"/data/rohitrango/Implicit3DCNNTasks/toyexample1/img*npy\"), key=intfunc)\n",
    "segs   = sorted(glob(\"/data/rohitrango/Implicit3DCNNTasks/toyexample1/seg*npy\"), key=intfunc)"
   ]
  },
  {
   "cell_type": "code",
   "execution_count": null,
   "id": "3",
   "metadata": {},
   "outputs": [],
   "source": [
    "# enter image\n",
    "idx = int(input(\"Enter index. \"))\n",
    "img, seg = np.load(images[idx]), np.load(segs[idx])\n",
    "print(images[idx], segs[idx])\n",
    "\n",
    "fig, axs = plt.subplots(1, 2)\n",
    "\n",
    "# Plot the first slice of the volume and segmentation images\n",
    "axs[0].imshow(img[:, :, 0], cmap='jet', vmin=0, vmax=1)\n",
    "axs[0].set_title('Volume Slice 0')\n",
    "axs[1].imshow(seg[:, :, 0], cmap='gray', vmin=0, vmax=1)\n",
    "axs[1].set_title('Segmentation Slice 0')\n",
    "\n",
    "# Define the slider widget to change the slice index\n",
    "slider = widgets.IntSlider(min=0, max=255, step=1, value=0)\n",
    "\n",
    "# Define the function to update the image slices based on the slider value\n",
    "def update_slice(slice_idx):\n",
    "    axs[0].imshow(img[:, :, slice_idx], cmap='jet', vmin=0, vmax=1)\n",
    "    axs[0].set_title(f'Volume Slice {slice_idx}')\n",
    "    axs[1].imshow(seg[:, :, slice_idx], cmap='gray', vmin=0, vmax=1)\n",
    "    axs[1].set_title(f'Segmentation Slice {slice_idx}')\n",
    "    fig.canvas.draw()\n",
    "\n",
    "# Attach the slider widget to the update_slice function\n",
    "slider.observe(lambda event: update_slice(event.new), names='value')\n",
    "\n",
    "# Display the slider widget and initial image slices\n",
    "display(slider)\n",
    "plt.show()"
   ]
  },
  {
   "cell_type": "code",
   "execution_count": null,
   "id": "4",
   "metadata": {},
   "outputs": [],
   "source": []
  }
 ],
 "metadata": {
  "kernelspec": {
   "display_name": "Python 3 (ipykernel)",
   "language": "python",
   "name": "python3"
  },
  "language_info": {
   "codemirror_mode": {
    "name": "ipython",
    "version": 3
   },
   "file_extension": ".py",
   "mimetype": "text/x-python",
   "name": "python",
   "nbconvert_exporter": "python",
   "pygments_lexer": "ipython3",
   "version": "3.7.16"
  }
 },
 "nbformat": 4,
 "nbformat_minor": 5
}
